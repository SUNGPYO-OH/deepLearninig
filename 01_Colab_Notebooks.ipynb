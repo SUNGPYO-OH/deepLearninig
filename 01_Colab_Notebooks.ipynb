{
  "nbformat": 4,
  "nbformat_minor": 0,
  "metadata": {
    "colab": {
      "provenance": [],
      "include_colab_link": true
    },
    "kernelspec": {
      "name": "python3",
      "display_name": "Python 3"
    },
    "language_info": {
      "name": "python"
    }
  },
  "cells": [
    {
      "cell_type": "markdown",
      "metadata": {
        "id": "view-in-github",
        "colab_type": "text"
      },
      "source": [
        "<a href=\"https://colab.research.google.com/github/SUNGPYO-OH/deepLearninig/blob/master/01_Colab_Notebooks.ipynb\" target=\"_parent\"><img src=\"https://colab.research.google.com/assets/colab-badge.svg\" alt=\"Open In Colab\"/></a>"
      ]
    },
    {
      "cell_type": "markdown",
      "source": [
        "# 개발환경 Colab Notebook 알아보기"
      ],
      "metadata": {
        "id": "DIQZYiTC6rEe"
      }
    },
    {
      "cell_type": "markdown",
      "source": [
        "## 1. 파이썬과 개발환경 이해하기"
      ],
      "metadata": {
        "id": "HX1PSMIR627p"
      }
    },
    {
      "cell_type": "markdown",
      "source": [
        "- 한글 -> 번역기 -> 영어\n",
        "- 파이썬 언어(코드) -> 파이썬 (번역기 엔진) -> 기계어\n",
        "- 코드를 작성할 공간 = 개발환경\n",
        "- 다양한 개발환경들 가운데 colab notebook을 선택(편하니까)"
      ],
      "metadata": {
        "id": "QOkwQd2u66pj"
      }
    },
    {
      "cell_type": "markdown",
      "source": [
        "### Cell의 종류\n",
        "1. 코드 Cell\n",
        "2. 마크다운 Cell"
      ],
      "metadata": {
        "id": "loUawvc-7dMa"
      }
    },
    {
      "cell_type": "markdown",
      "source": [
        "여기를 클릭해보세요.   \n",
        "이걸 Cell이라고 부릅니다.   \n",
        "Cell은 텍스트를 적는 용도의 '마크다운 Cell'과 코드를 적는 '코드 Cell'이 있습니다.   \n",
        "지금 이 글이 써진 건 마크다운 Cell이겠죠? 아래 Cell은 코드 Cell이구요. "
      ],
      "metadata": {
        "id": "i1Qs0YnN7GNC"
      }
    },
    {
      "cell_type": "code",
      "source": [
        "\"코드를 적고 싶다면 코드 Cell에 적어야 합니다.\""
      ],
      "metadata": {
        "colab": {
          "base_uri": "https://localhost:8080/",
          "height": 36
        },
        "id": "pZvrwdou7FA5",
        "outputId": "1394b21d-0783-4fe3-e8d5-40adb06e4b25"
      },
      "execution_count": null,
      "outputs": [
        {
          "output_type": "execute_result",
          "data": {
            "application/vnd.google.colaboratory.intrinsic+json": {
              "type": "string"
            },
            "text/plain": [
              "'코드를 적고 싶다면 코드 Cell에 적어야 합니다.'"
            ]
          },
          "metadata": {},
          "execution_count": 1
        }
      ]
    },
    {
      "cell_type": "markdown",
      "source": [
        "### Command 상태와 Edit 상태\n",
        "Cell을 한번 클릭해볼까요?  \n",
        "이번엔 더블 클릭해볼까요?\n",
        "  \n",
        "다르죠? \n",
        "   \n",
        "한번 클릭했을 때의 상태를 -> Command 모드(커서가 없는 상태, esc)   \n",
        "더블 클릭했을 때의 상태를 -> Edit 모드(enter)   \n",
        "라고 부릅니다. \n"
      ],
      "metadata": {
        "id": "8xKrFBpH7o8y"
      }
    },
    {
      "cell_type": "markdown",
      "source": [
        "### 코드 Cell 실행방법\n",
        "코드 Cell을 어떻게 실행할 수 있을까요?   \n",
        "방법은 3가지 입니다. "
      ],
      "metadata": {
        "id": "ROqbEF4y8ipr"
      }
    },
    {
      "cell_type": "code",
      "source": [
        "1 + 1"
      ],
      "metadata": {
        "colab": {
          "base_uri": "https://localhost:8080/"
        },
        "id": "6tQBpAEe8Vju",
        "outputId": "136d9ed2-cfa3-4c4c-db53-0ee03e1be24f"
      },
      "execution_count": null,
      "outputs": [
        {
          "output_type": "execute_result",
          "data": {
            "text/plain": [
              "2"
            ]
          },
          "metadata": {},
          "execution_count": 5
        }
      ]
    },
    {
      "cell_type": "code",
      "source": [
        "1 + 10"
      ],
      "metadata": {
        "colab": {
          "base_uri": "https://localhost:8080/"
        },
        "id": "dDMySQ2A8t6z",
        "outputId": "64826f31-2919-4230-dbb3-4caf27b7bc9b"
      },
      "execution_count": null,
      "outputs": [
        {
          "output_type": "execute_result",
          "data": {
            "text/plain": [
              "11"
            ]
          },
          "metadata": {},
          "execution_count": 6
        }
      ]
    },
    {
      "cell_type": "markdown",
      "source": [
        "* 셀 실행 단축키  \n",
        "1) ctrl + Enter : 현재 셀 실행  \n",
        "2) shift + Enter : 현재 셀 실행 후 아래 셀로 이동(현재 셀이 가장 아래일 경우, 아래에 빈 셀 추가)  \n",
        "3) alt + Enter : 현재 셀 실행 후 아래에 빈 셀 추가"
      ],
      "metadata": {
        "id": "vVbX3AAg8wMq"
      }
    },
    {
      "cell_type": "markdown",
      "metadata": {
        "id": "uf0x-69wmBmh"
      },
      "source": [
        "### 코드 이해하기"
      ]
    },
    {
      "cell_type": "code",
      "source": [
        "\"야, 너두 파이썬할 수 있어 따옴표 안에 있는 문자\""
      ],
      "metadata": {
        "colab": {
          "base_uri": "https://localhost:8080/",
          "height": 35
        },
        "id": "Ad-bKKZBrGVT",
        "outputId": "f5bb022b-d0ef-400e-f11c-a7049d914e7a",
        "collapsed": true
      },
      "execution_count": null,
      "outputs": [
        {
          "output_type": "execute_result",
          "data": {
            "application/vnd.google.colaboratory.intrinsic+json": {
              "type": "string"
            },
            "text/plain": [
              "'야, 너두 파이썬할 수 있어 따옴표 안에 있는 문자'"
            ]
          },
          "metadata": {},
          "execution_count": 11
        }
      ]
    },
    {
      "cell_type": "code",
      "metadata": {
        "id": "tmFts6J8LFd_",
        "colab": {
          "base_uri": "https://localhost:8080/"
        },
        "outputId": "c89bdcd3-c823-43f2-b2c7-5ca3c7c701ec",
        "collapsed": true
      },
      "source": [
        "print(\"야, 너두 파이썬할 수 있어\") #print(입력값)라는 함수 : 입력값을 출력창에 출력하는 기능\n",
        "print(\"파이썬 참 쉽지 :) \")"
      ],
      "execution_count": null,
      "outputs": [
        {
          "output_type": "stream",
          "name": "stdout",
          "text": [
            "야, 너두 파이썬할 수 있어\n",
            "파이썬 참 쉽지 :) \n"
          ]
        }
      ]
    },
    {
      "cell_type": "code",
      "source": [
        "'첫 번째 줄'\n",
        "'두 번째 줄'\n",
        "'세 번째 줄'"
      ],
      "metadata": {
        "id": "EUXen7NNlSYN"
      },
      "execution_count": null,
      "outputs": []
    },
    {
      "cell_type": "code",
      "source": [
        "'첫 번째 줄'\n",
        "print('두 번째 줄')\n",
        "'세 번째 줄'"
      ],
      "metadata": {
        "id": "ffz4dL2Mlawt"
      },
      "execution_count": null,
      "outputs": []
    },
    {
      "cell_type": "code",
      "metadata": {
        "id": "K_vXxM7ySA-F",
        "colab": {
          "base_uri": "https://localhost:8080/"
        },
        "outputId": "d81bd6ce-038b-453b-acb2-d8eef49ae6ce",
        "collapsed": true
      },
      "source": [
        "# 설명을 적고 싶을 땐 주석처리 (-> 코드에 포함X)\n",
        "# 이건 주석입니다\n",
        "print(\"파이썬 시작은 코랩에서 해야 제 맛\") # 코드"
      ],
      "execution_count": null,
      "outputs": [
        {
          "output_type": "stream",
          "name": "stdout",
          "text": [
            "파이썬 시작은 코랩에서 해야 제 맛\n"
          ]
        }
      ]
    },
    {
      "cell_type": "code",
      "metadata": {
        "id": "NNjr76mUShY7",
        "colab": {
          "base_uri": "https://localhost:8080/"
        },
        "outputId": "b46b6ab7-11f0-466a-95d7-16e66a39efd2",
        "collapsed": true
      },
      "source": [
        "# 주석처리를 하려면 앞에 #을 직접 붙여야 되는걸까?\n",
        "# 주석처리 단축키\n",
        "# Control + 슬래시\n",
        "# 주씨집가서 슬래시 먹을래? 주슬?\n",
        "\n",
        "print(\"이소연\")\n",
        "\n",
        "print(\"Hello, Friends\") # 이부분은 직접 #을 달아야 한다."
      ],
      "execution_count": null,
      "outputs": [
        {
          "output_type": "stream",
          "name": "stdout",
          "text": [
            "이소연\n",
            "Hello, Friends\n"
          ]
        }
      ]
    },
    {
      "cell_type": "markdown",
      "source": [
        "### 마크다운 이해하기"
      ],
      "metadata": {
        "id": "kt_Qye8F9MjQ"
      }
    },
    {
      "cell_type": "markdown",
      "source": [
        "# 이번엔 마크다운에 대해 살펴볼까요?\n",
        "## 글씨크기가 다 다르죠?\n",
        "### 차이가 뭘까요?\n",
        "#### 바로 #개수의 차이\n",
        "오늘의 주제는  \n",
        "개발환경세팅이다.\n",
        "\n",
        "\n",
        "줄바꿈을 하기 위해서는  \n",
        "윗줄 끝에 스페이스 두번 추가\n",
        "\n",
        "- 소분류1\n",
        "* 소분류2"
      ],
      "metadata": {
        "id": "ootRj85b9CHA"
      }
    },
    {
      "cell_type": "markdown",
      "metadata": {
        "id": "yFupKkeomw62"
      },
      "source": [
        "### 왼쪽의 아이콘 5개  \n",
        "1) 목차   \n",
        "2) 찾기 및 바꾸기  \n",
        "3) 코드 스니펫  \n",
        "4) 변수  \n",
        "5) 레포지토리"
      ]
    },
    {
      "cell_type": "markdown",
      "source": [
        "### 우측 상단의 설정  \n",
        "들여쓰기 : 무조건 4로 맞춰두기"
      ],
      "metadata": {
        "id": "IOkY4UU2-AHX"
      }
    },
    {
      "cell_type": "markdown",
      "metadata": {
        "id": "Z4yoIIzGoKLf"
      },
      "source": [
        "### 기타 자주 사용하는 기능\n",
        "- 런타임\n",
        "- 도구 - 단축키\n",
        "- 댓글\n",
        "- 공유"
      ]
    },
    {
      "cell_type": "markdown",
      "source": [
        "### 기본 단축키 정리"
      ],
      "metadata": {
        "id": "A7z7hOPjovTn"
      }
    },
    {
      "cell_type": "markdown",
      "source": [
        "#### 셀을 추가하는 법  \n",
        "커맨드 모드(커서가 없는 상태, esc)에서  \n",
        "- 위 추가 : a  \n",
        "- 아래 추가 : b   \n",
        "  \n",
        "에디트모드(enter)에서  \n",
        "- 위 추가 : ctrl 누른 상태에서 m 눌렀다 떼고 a  \n",
        "- 아래 추가 : ctrl 누른 상태에서 m 눌렀다 떼고 b"
      ],
      "metadata": {
        "id": "Gegi34e1j_y3"
      }
    },
    {
      "cell_type": "markdown",
      "source": [
        "#### 셀 상태 전환하는 법  \n",
        "코드셀을 마크다운셀로 전환  \n",
        "- Ctrl 누른 상태에서 m 눌렀다 떼고 m(markdown의 약자)  \n",
        "  \n",
        "마크다운에서 코드로 전환  \n",
        "- Ctrl 누른 상태에서 m 눌렀다 떼고 y(code의 약자는 c인데, 왜 y이지? 왜(why)?"
      ],
      "metadata": {
        "id": "sD3Y1txMkzIN"
      }
    },
    {
      "cell_type": "markdown",
      "metadata": {
        "id": "9cC3OuHMrfxy"
      },
      "source": [
        "#### 들여쓰기(indentation)  \n",
        "- tab : →→→→  \n",
        "- shift + tab : ←←←←"
      ]
    },
    {
      "cell_type": "markdown",
      "source": [
        "a, b, c = 1, 2, 3\n",
        "a, b, c = 1, 2, 3\n"
      ],
      "metadata": {
        "id": "0dQh_yU34RyY"
      }
    },
    {
      "cell_type": "markdown",
      "metadata": {
        "id": "ph5uuMmqkycN"
      },
      "source": [
        "#### 기타\n",
        "- 셀 삭제하기 : Ctrl + M D(delete)  \n",
        "- 이전 실행 되돌리기 : ctrl + M Z  \n",
        "- 문서 내 텍스트 찾기 및 바꾸기 : ctrl + G  \n",
        "- 코드 복제 : alt + shift + ↓(아래화살표)  \n",
        "- 한줄 삭제 : (edit 모드) ctrl + x  \n",
        "- 같은 글씨 찾아서 선택하기 : ctrl + D"
      ]
    },
    {
      "cell_type": "markdown",
      "metadata": {
        "id": "a4TAUolHo35P"
      },
      "source": [
        "### 입문자의 5대 오타"
      ]
    },
    {
      "cell_type": "code",
      "source": [
        "# 입문자의 5대 오타는 다음과 같습니다.\n",
        "\n",
        "# 0위. 스펠링 틀린 경우\n",
        "# append -> apend, attend, appent, appand\n",
        "\n",
        "# 1위. 괄호 비대칭 → 여는 괄호와 닫는 괄호의 갯수를 확인하세요.\n",
        "print(list(set([1, 2, 3])))# 괄호 하나를 없애보세요. # 괄호의 박스를 보면서 잘 매칭해주기\n",
        "\n",
        "# 2위. 쉼표(,) 온점(.)의 혼동 → 점은 앞뒤의 여백이 없어요. 쉼표는 보통 있어요.\n",
        "print(1000, 2000, 3000)\n",
        "print(1.5)\n",
        "[1, 2, 3].append(4)\n",
        "\n",
        "# 3위. 콜론(:)과 세미콜론(;)의 혼동 → 그냥 콜론이에요. \n",
        "if 5 > 3:\n",
        "    print('5가 3보다 크다.')\n",
        "\n",
        "\n",
        "# 4위. 들여쓰기 → 파이썬은 들여쓰기를 안맞춰주면 에러가 나요.\n",
        "print(1)\n",
        "print(2)\n",
        "\n",
        "if 5 > 3:\n",
        "    print('5가 3보다 크다.')"
      ],
      "metadata": {
        "id": "ukac5dCdpDx9",
        "colab": {
          "base_uri": "https://localhost:8080/"
        },
        "outputId": "e32ac661-f27d-4028-edea-7e743d891058"
      },
      "execution_count": null,
      "outputs": [
        {
          "output_type": "stream",
          "name": "stdout",
          "text": [
            "[1, 2, 3]\n",
            "1000 2000 3000\n",
            "1.5\n",
            "5가 3보다 크다.\n",
            "1\n",
            "2\n",
            "5가 3보다 크다.\n"
          ]
        }
      ]
    },
    {
      "cell_type": "code",
      "source": [
        "print(1)\n",
        "print(2)\n",
        "\n",
        "if 5 > 3:\n",
        "    print('5가 3보다 크다.')"
      ],
      "metadata": {
        "colab": {
          "base_uri": "https://localhost:8080/",
          "height": 134
        },
        "id": "YDKYnZ3gKgc4",
        "outputId": "b0dad964-bc7c-4126-effe-c06111aff338"
      },
      "execution_count": null,
      "outputs": [
        {
          "output_type": "error",
          "ename": "IndentationError",
          "evalue": "ignored",
          "traceback": [
            "\u001b[0;36m  File \u001b[0;32m\"<ipython-input-33-1e16797a40c0>\"\u001b[0;36m, line \u001b[0;32m5\u001b[0m\n\u001b[0;31m    print('5가 3보다 크다.')\u001b[0m\n\u001b[0m        ^\u001b[0m\n\u001b[0;31mIndentationError\u001b[0m\u001b[0;31m:\u001b[0m expected an indented block\n"
          ]
        }
      ]
    },
    {
      "cell_type": "markdown",
      "source": [
        "예기치못한 에러를 만났을 때 대처법  \n",
        "1. 에러문장을 잘 읽는다.  \n",
        "2. 에러문장에 맞게 5대 오타를 하나씩 검토한다."
      ],
      "metadata": {
        "id": "SzdRqTfY0vYL"
      }
    }
  ]
}